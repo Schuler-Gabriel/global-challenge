{
  "cells": [
    {
      "cell_type": "raw",
      "metadata": {
        "vscode": {
          "languageId": "raw"
        }
      },
      "source": [
        "# 🔬 Experimentos de Arquitetura do Ensemble\n",
        "\n",
        "Este notebook explora diferentes arquiteturas e configurações para otimizar o modelo LSTM híbrido.\n",
        "\n",
        "## Experimentos:\n",
        "1. **Diferentes Pesos do Ensemble**: Otimizar 0.7/0.3\n",
        "2. **Arquiteturas LSTM**: Layers, units, dropout\n",
        "3. **Janelas Temporais**: 24h, 48h, 72h\n",
        "4. **Feature Selection**: Importância das 149 variáveis\n",
        "5. **Attention Mechanisms**: Foco em features críticas\n",
        "6. **Multi-Head Ensemble**: Diferentes especializações\n",
        "\n",
        "## Comparações:\n",
        "- Modelo Simples vs Híbrido\n",
        "- Com/sem níveis de pressão\n",
        "- Diferentes combinações de APIs\n",
        "- Traditional ML vs Deep Learning\n"
      ]
    }
  ],
  "metadata": {
    "language_info": {
      "name": "python"
    }
  },
  "nbformat": 4,
  "nbformat_minor": 2
}
