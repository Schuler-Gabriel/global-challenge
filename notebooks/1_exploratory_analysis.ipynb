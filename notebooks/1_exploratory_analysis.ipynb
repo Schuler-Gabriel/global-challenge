{
  "cells": [
    {
      "cell_type": "raw",
      "metadata": {
        "vscode": {
          "languageId": "raw"
        }
      },
      "source": [
        "# 📊 Análise Exploratória dos Dados Atmosféricos\n",
        "\n",
        "Este notebook realiza a análise exploratória dos dados meteorológicos coletados das APIs Open-Meteo para o modelo híbrido LSTM de previsão de cheias.\n",
        "\n",
        "## Objetivos:\n",
        "- Analisar dados das APIs Historical Forecast (149 variáveis) e Historical Weather (25 variáveis)\n",
        "- Explorar variáveis atmosféricas de níveis de pressão (500hPa, 850hPa)\n",
        "- Identificar padrões sazonais e correlações\n",
        "- Avaliar qualidade dos dados e missing values\n",
        "- Comparar fontes de dados (Open-Meteo vs INMET)\n"
      ]
    },
    {
      "cell_type": "code",
      "execution_count": 1,
      "metadata": {},
      "outputs": [
        {
          "ename": "ModuleNotFoundError",
          "evalue": "No module named 'plotly'",
          "output_type": "error",
          "traceback": [
            "\u001b[31m---------------------------------------------------------------------------\u001b[39m",
            "\u001b[31mModuleNotFoundError\u001b[39m                       Traceback (most recent call last)",
            "\u001b[36mCell\u001b[39m\u001b[36m \u001b[39m\u001b[32mIn[1]\u001b[39m\u001b[32m, line 6\u001b[39m\n\u001b[32m      4\u001b[39m \u001b[38;5;28;01mimport\u001b[39;00m\u001b[38;5;250m \u001b[39m\u001b[34;01mmatplotlib\u001b[39;00m\u001b[34;01m.\u001b[39;00m\u001b[34;01mpyplot\u001b[39;00m\u001b[38;5;250m \u001b[39m\u001b[38;5;28;01mas\u001b[39;00m\u001b[38;5;250m \u001b[39m\u001b[34;01mplt\u001b[39;00m\n\u001b[32m      5\u001b[39m \u001b[38;5;28;01mimport\u001b[39;00m\u001b[38;5;250m \u001b[39m\u001b[34;01mseaborn\u001b[39;00m\u001b[38;5;250m \u001b[39m\u001b[38;5;28;01mas\u001b[39;00m\u001b[38;5;250m \u001b[39m\u001b[34;01msns\u001b[39;00m\n\u001b[32m----> \u001b[39m\u001b[32m6\u001b[39m \u001b[38;5;28;01mimport\u001b[39;00m\u001b[38;5;250m \u001b[39m\u001b[34;01mplotly\u001b[39;00m\u001b[34;01m.\u001b[39;00m\u001b[34;01mexpress\u001b[39;00m\u001b[38;5;250m \u001b[39m\u001b[38;5;28;01mas\u001b[39;00m\u001b[38;5;250m \u001b[39m\u001b[34;01mpx\u001b[39;00m\n\u001b[32m      7\u001b[39m \u001b[38;5;28;01mimport\u001b[39;00m\u001b[38;5;250m \u001b[39m\u001b[34;01mplotly\u001b[39;00m\u001b[34;01m.\u001b[39;00m\u001b[34;01mgraph_objects\u001b[39;00m\u001b[38;5;250m \u001b[39m\u001b[38;5;28;01mas\u001b[39;00m\u001b[38;5;250m \u001b[39m\u001b[34;01mgo\u001b[39;00m\n\u001b[32m      8\u001b[39m \u001b[38;5;28;01mfrom\u001b[39;00m\u001b[38;5;250m \u001b[39m\u001b[34;01mplotly\u001b[39;00m\u001b[34;01m.\u001b[39;00m\u001b[34;01msubplots\u001b[39;00m\u001b[38;5;250m \u001b[39m\u001b[38;5;28;01mimport\u001b[39;00m make_subplots\n",
            "\u001b[31mModuleNotFoundError\u001b[39m: No module named 'plotly'"
          ]
        }
      ],
      "source": [
        "# Importações principais\n",
        "import pandas as pd\n",
        "import numpy as np\n",
        "import matplotlib.pyplot as plt\n",
        "import seaborn as sns\n",
        "import plotly.express as px\n",
        "import plotly.graph_objects as go\n",
        "from plotly.subplots import make_subplots\n",
        "import warnings\n",
        "warnings.filterwarnings('ignore')\n",
        "\n",
        "# Configuração dos gráficos\n",
        "plt.style.use('seaborn-v0_8')\n",
        "sns.set_palette(\"husl\")\n",
        "plt.rcParams['figure.figsize'] = (12, 8)\n",
        "\n",
        "# Configurações do pandas\n",
        "pd.set_option('display.max_columns', None)\n",
        "pd.set_option('display.max_rows', 100)\n"
      ]
    },
    {
      "cell_type": "raw",
      "metadata": {
        "vscode": {
          "languageId": "raw"
        }
      },
      "source": [
        "## 1. Carregamento dos Dados\n"
      ]
    },
    {
      "cell_type": "code",
      "execution_count": null,
      "metadata": {},
      "outputs": [],
      "source": [
        "# Carregar dados da estratégia híbrida Open-Meteo\n",
        "print(\"🌦️ Carregando dados atmosféricos...\")\n",
        "\n",
        "# Dados principais - Historical Forecast API (149 variáveis, 2022-2025)\n",
        "try:\n",
        "    df_forecast = pd.read_csv('../data/processed/openmeteo_historical_forecast.csv')\n",
        "    df_forecast['datetime'] = pd.to_datetime(df_forecast['datetime'])\n",
        "    df_forecast.set_index('datetime', inplace=True)\n",
        "    print(f\"✅ Historical Forecast: {df_forecast.shape[0]} registros, {df_forecast.shape[1]} variáveis\")\n",
        "except FileNotFoundError:\n",
        "    print(\"❌ Arquivo Historical Forecast não encontrado. Execute primeiro o pipeline de dados\")\n",
        "    # Tentar carregar dados brutos disponíveis\n",
        "    try:\n",
        "        from pathlib import Path\n",
        "        raw_files = list(Path(\"../data/raw/Open-Meteo Historical Forecast/\").glob(\"*.csv\"))\n",
        "        if raw_files:\n",
        "            print(f\"📁 Encontrados {len(raw_files)} arquivos brutos. Carregando o primeiro...\")\n",
        "            df_forecast = pd.read_csv(raw_files[0])\n",
        "            df_forecast['datetime'] = pd.to_datetime(df_forecast['datetime'])\n",
        "            df_forecast.set_index('datetime', inplace=True)\n",
        "            print(f\"✅ Dados brutos carregados: {df_forecast.shape}\")\n",
        "        else:\n",
        "            df_forecast = None\n",
        "    except Exception as e:\n",
        "        print(f\"❌ Erro carregando dados brutos: {e}\")\n",
        "        df_forecast = None\n",
        "\n",
        "# Dados temporais - Historical Weather API (25 variáveis, 2000-2024)\n",
        "try:\n",
        "    df_weather = pd.read_csv('../data/processed/openmeteo_historical_weather.csv')\n",
        "    df_weather['datetime'] = pd.to_datetime(df_weather['datetime'])\n",
        "    df_weather.set_index('datetime', inplace=True)\n",
        "    print(f\"✅ Historical Weather: {df_weather.shape[0]} registros, {df_weather.shape[1]} variáveis\")\n",
        "except FileNotFoundError:\n",
        "    print(\"❌ Arquivo Historical Weather não encontrado\")\n",
        "    # Tentar carregar dados brutos\n",
        "    try:\n",
        "        from pathlib import Path\n",
        "        raw_files = list(Path(\"../data/raw/Open-Meteo Historical Weather/\").glob(\"*.csv\"))\n",
        "        if raw_files:\n",
        "            print(f\"📁 Encontrados {len(raw_files)} arquivos brutos. Carregando o primeiro...\")\n",
        "            df_weather = pd.read_csv(raw_files[0])\n",
        "            df_weather['datetime'] = pd.to_datetime(df_weather['datetime'])\n",
        "            df_weather.set_index('datetime', inplace=True)\n",
        "            print(f\"✅ Dados brutos carregados: {df_weather.shape}\")\n",
        "        else:\n",
        "            df_weather = None\n",
        "    except Exception as e:\n",
        "        print(f\"❌ Erro carregando dados brutos: {e}\")\n",
        "        df_weather = None\n",
        "\n",
        "# Dados INMET para validação\n",
        "try:\n",
        "    df_inmet = pd.read_csv('../data/processed/dados_inmet_processados.csv')\n",
        "    df_inmet['datetime'] = pd.to_datetime(df_inmet['datetime'])\n",
        "    df_inmet.set_index('datetime', inplace=True)\n",
        "    print(f\"✅ INMET: {df_inmet.shape[0]} registros, {df_inmet.shape[1]} variáveis\")\n",
        "except FileNotFoundError:\n",
        "    print(\"❌ Dados INMET processados não encontrados\")\n",
        "    # Tentar carregar dados brutos INMET\n",
        "    try:\n",
        "        from pathlib import Path\n",
        "        raw_files = list(Path(\"../data/raw/INMET/\").glob(\"*.csv\"))\n",
        "        if raw_files:\n",
        "            print(f\"📁 Encontrados {len(raw_files)} arquivos INMET brutos.\")\n",
        "            df_inmet = pd.read_csv(raw_files[0])\n",
        "            if 'Data Medicao' in df_inmet.columns:\n",
        "                df_inmet['datetime'] = pd.to_datetime(df_inmet['Data Medicao'])\n",
        "                df_inmet.set_index('datetime', inplace=True)\n",
        "                print(f\"✅ Dados INMET brutos carregados: {df_inmet.shape}\")\n",
        "            else:\n",
        "                print(\"⚠️ Formato INMET não reconhecido\")\n",
        "                df_inmet = None\n",
        "        else:\n",
        "            df_inmet = None\n",
        "    except Exception as e:\n",
        "        print(f\"❌ Erro carregando dados INMET: {e}\")\n",
        "        df_inmet = None\n"
      ]
    },
    {
      "cell_type": "raw",
      "metadata": {
        "vscode": {
          "languageId": "raw"
        }
      },
      "source": [
        "## 2. Resumo e Conclusões da Análise\n"
      ]
    },
    {
      "cell_type": "code",
      "execution_count": null,
      "metadata": {},
      "outputs": [],
      "source": [
        "# Resumo da análise exploratória\n",
        "print(\"📋 RESUMO DA ANÁLISE EXPLORATÓRIA\")\n",
        "print(\"=\" * 50)\n",
        "\n",
        "if df_forecast is not None:\n",
        "    print(f\"✅ Dados Open-Meteo Historical Forecast carregados com sucesso\")\n",
        "    print(f\"   - Período: {df_forecast.index.min().strftime('%Y-%m-%d')} até {df_forecast.index.max().strftime('%Y-%m-%d')}\")\n",
        "    print(f\"   - Registros: {len(df_forecast):,}\")\n",
        "    print(f\"   - Variáveis: {df_forecast.shape[1]}\")\n",
        "    \n",
        "    # Identificar níveis de pressão disponíveis\n",
        "    pressure_levels = []\n",
        "    for level in ['1000hPa', '850hPa', '700hPa', '500hPa', '300hPa', '200hPa']:\n",
        "        if any(level in col for col in df_forecast.columns):\n",
        "            pressure_levels.append(level)\n",
        "    \n",
        "    if pressure_levels:\n",
        "        print(f\"   - Níveis de pressão: {', '.join(pressure_levels)}\")\n",
        "        print(f\"   - ⭐ Análise sinótica habilitada (850hPa para frentes, 500hPa para vórtices)\")\n",
        "    \n",
        "    # Qualidade dos dados\n",
        "    missing_pct = (df_forecast.isnull().sum().sum() / df_forecast.size) * 100\n",
        "    print(f\"   - Dados faltantes: {missing_pct:.2f}%\")\n",
        "    \n",
        "    if missing_pct < 1:\n",
        "        print(f\"   - ✅ Excelente qualidade dos dados\")\n",
        "    elif missing_pct < 5:\n",
        "        print(f\"   - ✅ Boa qualidade dos dados\")\n",
        "    else:\n",
        "        print(f\"   - ⚠️ Atenção: verificar tratamento de dados faltantes\")\n",
        "\n",
        "print(\"\\n🎯 PRÓXIMOS PASSOS:\")\n",
        "print(\"1. 🔧 Feature Engineering atmosférica\")\n",
        "print(\"2. 🧠 Treinamento do modelo LSTM híbrido\") \n",
        "print(\"3. 📊 Avaliação de performance\")\n",
        "print(\"4. ✅ Validação cruzada temporal\")\n",
        "\n",
        "print(\"\\n🚀 Estratégia híbrida pronta para implementação!\")\n",
        "print(f\"   Target de precisão: >82% (vs ~70% modelos tradicionais)\")\n"
      ]
    }
  ],
  "metadata": {
    "kernelspec": {
      "display_name": "Python 3",
      "language": "python",
      "name": "python3"
    },
    "language_info": {
      "codemirror_mode": {
        "name": "ipython",
        "version": 3
      },
      "file_extension": ".py",
      "mimetype": "text/x-python",
      "name": "python",
      "nbconvert_exporter": "python",
      "pygments_lexer": "ipython3",
      "version": "3.13.2"
    }
  },
  "nbformat": 4,
  "nbformat_minor": 2
}
