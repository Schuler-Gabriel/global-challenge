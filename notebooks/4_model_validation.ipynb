{
  "cells": [
    {
      "cell_type": "raw",
      "metadata": {
        "vscode": {
          "languageId": "raw"
        }
      },
      "source": [
        "# ✅ Validação Cruzada Temporal do Modelo\n",
        "\n",
        "Este notebook implementa validação cruzada temporal específica para dados atmosféricos, respeitando a natureza sequencial dos dados meteorológicos.\n",
        "\n",
        "## Estratégia de Validação:\n",
        "- **Time Series Split**: Divisões respeitando ordem temporal\n",
        "- **Walk-Forward Validation**: Janela deslizante\n",
        "- **Seasonal Cross-Validation**: Validação por estações\n",
        "- **Out-of-Time Testing**: Teste em períodos não vistos\n",
        "\n",
        "## Métricas de Robustez:\n",
        "- Estabilidade temporal do modelo\n",
        "- Performance em diferentes padrões sazonais\n",
        "- Detecção de overfitting temporal\n",
        "- Generalização para anos não vistos\n"
      ]
    }
  ],
  "metadata": {
    "language_info": {
      "name": "python"
    }
  },
  "nbformat": 4,
  "nbformat_minor": 2
}
