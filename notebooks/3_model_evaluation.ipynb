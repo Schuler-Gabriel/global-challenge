{
  "cells": [
    {
      "cell_type": "raw",
      "metadata": {
        "vscode": {
          "languageId": "raw"
        }
      },
      "source": [
        "# 📊 Avaliação do Modelo LSTM Híbrido\n",
        "\n",
        "Este notebook avalia a performance do modelo LSTM híbrido treinado, focando em métricas atmosféricas específicas e análise de casos de estudo.\n",
        "\n",
        "## Métricas de Avaliação:\n",
        "- **Accuracy Global**: >82% (target)\n",
        "- **MAE Precipitação**: <1.5 mm/h\n",
        "- **RMSE Precipitação**: <2.5 mm/h\n",
        "- **Frontal Detection Score**: >90%\n",
        "- **Synoptic Recognition Score**: >85%\n",
        "\n",
        "## Análises:\n",
        "1. Performance por tipo de sistema meteorológico\n",
        "2. Detecção de frentes frias (850hPa)\n",
        "3. Identificação de vórtices ciclônicos (500hPa)\n",
        "4. Casos extremos (>20mm/h)\n",
        "5. Análise sazonal de erros\n"
      ]
    }
  ],
  "metadata": {
    "language_info": {
      "name": "python"
    }
  },
  "nbformat": 4,
  "nbformat_minor": 2
}
